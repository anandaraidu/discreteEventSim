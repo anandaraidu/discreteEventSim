{
 "cells": [
  {
   "cell_type": "code",
   "execution_count": 45,
   "metadata": {},
   "outputs": [],
   "source": [
    "import simpy"
   ]
  },
  {
   "cell_type": "markdown",
   "metadata": {},
   "source": [
    "Basically creates an environment.\n",
    "Main components:-\n",
    "    Resources\n",
    "    Events to ask for resources\n",
    "    Events to relenquish resources\n",
    "\n",
    "At any moment there are pool of events ready and the simpy main:\n",
    "    Picks the last event and for each event: \n",
    "        event is dispatched to all parties awaiting on this event.\n",
    "   "
   ]
  },
  {
   "cell_type": "markdown",
   "metadata": {},
   "source": [
    "Some typical simulations:\n",
    "    Bank counters simulation\n",
    "    \n",
    "A bank have K-tellers.\n",
    "Each counter have a service personnel and a service time associated with the service.\n",
    "There are customers for every teller Queue.\n",
    "\n",
    "\n",
    "Stores\n",
    "Containers\n",
    "Resources\n",
    "\n",
    "\n",
    "The capacity of resource means how many people can simultaneously use the resource or how many times the resource can be used.\n",
    "for simple resource i think,  capacity refers to simultaneous use of the resource.  Does this mean if capacity=3 means there are 3 resources created of this type."
   ]
  },
  {
   "cell_type": "markdown",
   "metadata": {},
   "source": [
    "An environment with many entities having a certian self discipline.\n",
    "In the example of bank customers: \n",
    "    Customers are external and even they have certian distribution\n",
    "    The tellers are also strictly servicing with some service timeout\n",
    "\n",
    "Basically we may want to measure the waiting time of the customer\n",
    "Basically we may want to measure the waiting time when there are multiple resources.\n",
    "and so on.\n",
    "In such cases, we have to simulate the resources, \n",
    "the important thing: what is the best distribution of arriving customers???\n",
    "Arriving customers simulation mostly should be dependent on real world behavior,\n",
    "In this whole example we are trying to understand how to guarntee some waiting time\n",
    "for the incoming customers\n",
    "\n",
    "\n",
    "How do we create a multiple resources and system should pick any available resource and give it\n",
    "to the customer."
   ]
  },
  {
   "cell_type": "code",
   "execution_count": 56,
   "metadata": {},
   "outputs": [],
   "source": [
    "'''\n",
    "This is the real world simulation of customers coming into a bank\n",
    "'''\n",
    "def generate_customers(env,res,N):\n",
    "    for i in range(N):\n",
    "        env.process( customer(f'customer-{i}', res)    )\n",
    "        yield env.timeout(1)"
   ]
  },
  {
   "cell_type": "markdown",
   "metadata": {},
   "source": [
    "There are 2 important things to consider for input:\n",
    "1.InterArrivalTime distribution\n",
    "2.ServiceTime distribution\n",
    "\n"
   ]
  },
  {
   "cell_type": "code",
   "execution_count": 57,
   "metadata": {},
   "outputs": [],
   "source": [
    "'''\n",
    "customer is raising a request to the teller res.request()\n",
    "but how does the simpy Env know that this guy is waiting on a request.\n",
    "1. customer is a process \n",
    "2. res is also registered with environment.\n",
    "'''\n",
    "def customer(name, res):\n",
    "    with res.request() as req:\n",
    "        yield req\n",
    "    print(f'{name} Customer serviced')    "
   ]
  },
  {
   "cell_type": "code",
   "execution_count": 58,
   "metadata": {},
   "outputs": [],
   "source": [
    "env = simpy.Environment()\n",
    "res = simpy.Resource( env, capacity=1)"
   ]
  },
  {
   "cell_type": "code",
   "execution_count": 59,
   "metadata": {},
   "outputs": [
    {
     "name": "stdout",
     "output_type": "stream",
     "text": [
      "customer-0 Customer serviced\n",
      "customer-1 Customer serviced\n",
      "customer-2 Customer serviced\n",
      "customer-3 Customer serviced\n",
      "customer-4 Customer serviced\n",
      "customer-5 Customer serviced\n",
      "customer-6 Customer serviced\n",
      "customer-7 Customer serviced\n",
      "customer-8 Customer serviced\n",
      "customer-9 Customer serviced\n"
     ]
    }
   ],
   "source": [
    "env.process(generate_customers(env, res, 10))\n",
    "env.run()"
   ]
  },
  {
   "cell_type": "code",
   "execution_count": null,
   "metadata": {},
   "outputs": [],
   "source": []
  }
 ],
 "metadata": {
  "kernelspec": {
   "display_name": "Python 3",
   "language": "python",
   "name": "python3"
  },
  "language_info": {
   "codemirror_mode": {
    "name": "ipython",
    "version": 3
   },
   "file_extension": ".py",
   "mimetype": "text/x-python",
   "name": "python",
   "nbconvert_exporter": "python",
   "pygments_lexer": "ipython3",
   "version": "3.7.3"
  }
 },
 "nbformat": 4,
 "nbformat_minor": 2
}
